{
 "metadata": {
  "language_info": {
   "codemirror_mode": {
    "name": "ipython",
    "version": 3
   },
   "file_extension": ".py",
   "mimetype": "text/x-python",
   "name": "python",
   "nbconvert_exporter": "python",
   "pygments_lexer": "ipython3",
   "version": "3.8.6-candidate"
  },
  "orig_nbformat": 2,
  "kernelspec": {
   "name": "python3",
   "display_name": "Python 3.8.6 64-bit",
   "metadata": {
    "interpreter": {
     "hash": "793dc8a88c3f633277c6a01574284a70497bc6df8874e35aa3b159965051de43"
    }
   }
  }
 },
 "nbformat": 4,
 "nbformat_minor": 2,
 "cells": [
  {
   "cell_type": "code",
   "execution_count": null,
   "metadata": {},
   "outputs": [],
   "source": [
    "import cv2\n",
    "import numpy as np"
   ]
  },
  {
   "cell_type": "code",
   "execution_count": null,
   "metadata": {},
   "outputs": [],
   "source": [
    "'CONVERTER A IMAGEM DA TELA(PIL) EM CV2'\n",
    "from PIL import ImageGrab\n",
    "img = np.array(ImageGrab.grab())"
   ]
  },
  {
   "cell_type": "code",
   "execution_count": null,
   "metadata": {},
   "outputs": [],
   "source": [
    "img = cv2.imread(r'C:\\Users\\Plus-TI\\Documents\\APRENDIZAGEM\\OPENCV\\jesus-voltara-5959ad34dbccc.jpg')\n",
    "print(img.shape[0], img.shape[1])\n",
    "#cv2.imshow('Jesus voltando', img)\n",
    "#cv2.waitKey(0)"
   ]
  },
  {
   "source": [
    "<img src=\"jesus-voltara-5959ad34dbccc.jpg\">"
   ],
   "cell_type": "markdown",
   "metadata": {}
  },
  {
   "cell_type": "code",
   "execution_count": null,
   "metadata": {},
   "outputs": [],
   "source": [
    "tam = 15\n",
    "esp = 20\n",
    "'PIXELA A IMAGEM' \n",
    "for x in range(0, img.shape[0], esp):\n",
    "    for y in range(0, img.shape[1], esp):\n",
    "        img[x: x + tam, y: y + tam] = (0, 0, 255)\n",
    "\n",
    "'CRIA LINHAS NO ANGULOS VERTICAIS E HORIZONTAIS'\n",
    "for y in range(0, img.shape[0], tam): cv2.line(img, (738, y), (0, y), (255, 255, 0))\n",
    "for x in range(0, img.shape[1], tam): cv2.line(img, (x, 738), (x, 0), (255, 255, 0))\n"
   ]
  },
  {
   "cell_type": "code",
   "execution_count": null,
   "metadata": {},
   "outputs": [],
   "source": [
    "'INSERI TEXTO NA IMG'\n",
    "fonte = cv2.FONT_HERSHEY_SIMPLEX\n",
    "tamanho_fonte = 3\n",
    "grossura_linha = 2\n",
    "tipo_linha = cv2.LINE_AA\n",
    "cv2.putText(img, 'JESUS', (10, 10), fonte, tamanho_fonte, (255, 0, 0), grossura_linha,  tipo_linha)\n",
    "cv2.imshow('TEXTO NA IMAGEM', img)\n",
    "cv2.waitKey(0)"
   ]
  },
  {
   "cell_type": "code",
   "execution_count": null,
   "metadata": {},
   "outputs": [],
   "source": [
    "'DESCOLAR A IMAGEM (SHIFT)'\n",
    "coordenada = np.float32([[1, 0, 1], [0, 1, 50]])\n",
    "img_descolada = cv2.warpAffine(img, coordenada, (img.shape[1], img.shape[0]))\n",
    "cv2.imshow('IMG DESCOLOCADA', img_descolada)\n",
    "cv2.waitKey(0)"
   ]
  },
  {
   "cell_type": "code",
   "execution_count": null,
   "metadata": {},
   "outputs": [],
   "source": [
    "for x,y in [[0, 0], [50, 0], [50, 50], [0, 50]]:\n",
    "    coordenada = np.float32([[1, 0, x], [0, 1, y]])\n",
    "    img_deslocada = cv2.warpAffine(img, coordenada, (img.shape[1], img.shape[0]))\n",
    "    cv2.imshow(f'IMAGEM X:{x} Y:{y}', img_deslocada)\n",
    "    cv2.waitKey(0)"
   ]
  },
  {
   "cell_type": "code",
   "execution_count": null,
   "metadata": {},
   "outputs": [],
   "source": [
    "'ROTACIONAR IMAGEM'\n",
    "l, a = img.shape[:2]\n",
    "centro = (l // 2, a // 2)\n",
    "print(img.shape[:2], centro, l, a)\n",
    "M = cv2.getRotationMatrix2D(centro, 45, 1.0)\n",
    "img_rodada = cv2.warpAffine(img, M, (l, a))\n",
    "cv2.imshow('IMG RODADA', img_rodada)\n",
    "cv2.waitKey(0)"
   ]
  },
  {
   "cell_type": "code",
   "execution_count": null,
   "metadata": {},
   "outputs": [],
   "source": [
    "l, a = img.shape[:2]\n",
    "centro = (l // 2, a // 2)\n",
    "for r in range(0, 380, 45):\n",
    "    M = cv2.getRotationMatrix2D( centro, r, 1.0)\n",
    "    img_rodada = cv2.warpAffine(img, M, (l, a))\n",
    "    cv2.imshow(f'RODANDO {r}º', img_rodada)\n",
    "    cv2.waitKey(0)"
   ]
  },
  {
   "cell_type": "code",
   "execution_count": null,
   "metadata": {},
   "outputs": [],
   "source": [
    "'RENDIMENSIONAR A IMAGEM, SUPONDO QUE QUERIA AUMENTAR O TAMANHO PARA 500, DEVO ACHAR O FATOR(ASPECT RATIO, TAXA DE ASPECTO DA IMAGEM) DA IMAGEM PARA NÃO PERDER A QUALIDADE'\n",
    "print(img.shape[:2])\n",
    "n = 1000\n",
    "r = float(n) / img.shape[1]\n",
    "dim = (n, int(img.shape[0] * r))\n",
    "print(r)\n",
    "img_redimensionada = cv2.resize(img, dim, interpolation = cv2.INTER_AREA)\n",
    "cv2.imshow('img redimensionada', img_redimensionada)\n",
    "cv2.waitKey(0)"
   ]
  },
  {
   "cell_type": "code",
   "execution_count": null,
   "metadata": {},
   "outputs": [],
   "source": [
    "'REDIMENSIONAR EM ALTURA'\n",
    "n = 1000\n",
    "r = float(n) / img.shape[0]\n",
    "dim = (int(img.shape[1] * r), n)\n",
    "img_redimensionada = cv2.resize(img, dim, interpolation = cv2.INTER_AREA)\n",
    "cv2.imshow('REDIMENSIONANDO EM ALTURA', img_redimensionada)\n",
    "cv2.waitKey(0)"
   ]
  },
  {
   "cell_type": "code",
   "execution_count": null,
   "metadata": {},
   "outputs": [],
   "source": [
    "'INVERTER A IMAGEM'\n",
    "img = cv2.flip(img, 1)\n",
    "cv2.imshow('INVERTENDO HORIZONTALMENTE', img)\n",
    "cv2.waitKey(0)\n",
    "\n",
    "img = cv2.flip(img, 0)\n",
    "cv2.imshow('INVERTENDO VERTICAL', img)\n",
    "cv2.waitKey(0)\n",
    "\n",
    "img = cv2.flip(img, -1)\n",
    "cv2.imshow('INVERTENDO HORIZONTAL E VERTICAL', img)\n",
    "cv2.waitKey(0)"
   ]
  },
  {
   "cell_type": "code",
   "execution_count": null,
   "metadata": {},
   "outputs": [],
   "source": [
    "'CORTAR A IMAGEM'\n",
    "cv2.imshow('CORTANDO PELA METADA', img[: img.shape[0] // 2, : img.shape[1] // 2])\n",
    "cv2.waitKey(0)\n",
    "\n",
    "cv2.imshow('CORTANDO PELA METADA', img[: img.shape[0] // 2  , img.shape[1] // 2 :])\n",
    "cv2.waitKey(0)\n",
    "\n",
    "cv2.imshow('CORTANDO PELA METADA', img[img.shape[0] // 2 : , img.shape[1] // 2 :])\n",
    "cv2.waitKey(0)\n",
    "\n",
    "cv2.imshow('CORTANDO PELA METADA', img[: img.shape[0] // 2  , : img.shape[1] // 2])\n",
    "cv2.waitKey(0)"
   ]
  },
  {
   "cell_type": "code",
   "execution_count": null,
   "metadata": {},
   "outputs": [],
   "source": [
    "'SOMA 100 PIXEL DA IMAGEM'\n",
    "M = np.ones(img.shape, dtype='uint8') * 100\n",
    "add = cv2.add(img, M)\n",
    "cv2.imshow('ADICAO DA IMAGEM', add)\n",
    "cv2.waitKey(0)"
   ]
  },
  {
   "cell_type": "code",
   "execution_count": null,
   "metadata": {},
   "outputs": [],
   "source": [
    "'SUBTRAI 100 PIXEL DA IMAGEM'\n",
    "M = np.ones(img.shape, dtype='uint8') * 100\n",
    "sub = cv2.subtract(img, M)\n",
    "cv2.imshow('SUBTRACAO IMG', sub)\n",
    "cv2.waitKey(0)"
   ]
  },
  {
   "cell_type": "code",
   "execution_count": null,
   "metadata": {},
   "outputs": [],
   "source": [
    "M = np.ones(img.shape, dtype='uint8')\n",
    "sub = cv2.subtract(cv2.flip(img, 1), M)\n",
    "cv2.imshow('DIFERENCA DA IMAGEM INVERTIDA', sub)\n",
    "cv2.waitKey(0)"
   ]
  },
  {
   "cell_type": "code",
   "execution_count": null,
   "metadata": {},
   "outputs": [],
   "source": [
    "cv2.imshow('img alterada', img)\n",
    "cv2.waitKey(0)"
   ]
  },
  {
   "cell_type": "code",
   "execution_count": null,
   "metadata": {},
   "outputs": [],
   "source": []
  }
 ]
}